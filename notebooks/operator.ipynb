{
 "cells": [
  {
   "cell_type": "code",
   "execution_count": 2,
   "metadata": {},
   "outputs": [],
   "source": [
    "import os\n",
    "import sys\n",
    "from pathlib import Path\n",
    "\n",
    "SRC_PATH = Path(__name__).resolve().parents[1]\n",
    "\n",
    "sys.path.append(str(SRC_PATH))\n",
    "\n",
    "import pandas as pd\n",
    "import numpy as np\n",
    "import seaborn as sns\n",
    "import matplotlib.pyplot as plt\n",
    "\n",
    "from sklearn.metrics import confusion_matrix\n",
    "from sklearn.metrics import f1_score, accuracy_score, recall_score, precision_score\n"
   ]
  },
  {
   "cell_type": "code",
   "execution_count": 3,
   "metadata": {},
   "outputs": [
    {
     "data": {
      "text/plain": [
       "PosixPath('/mnt/c/Users/Moon/OneDrive/CS/Project/PMU_detection')"
      ]
     },
     "execution_count": 3,
     "metadata": {},
     "output_type": "execute_result"
    }
   ],
   "source": [
    "SRC_PATH"
   ]
  },
  {
   "cell_type": "code",
   "execution_count": null,
   "metadata": {},
   "outputs": [],
   "source": [
    "from data_generator.pmu import VirtualPMU\n",
    "from src.preprocess import MissingHandler"
   ]
  },
  {
   "cell_type": "code",
   "execution_count": 4,
   "metadata": {},
   "outputs": [],
   "source": [
    "pmu = pd.read_csv(\"../data/pmu.csv\")"
   ]
  },
  {
   "cell_type": "code",
   "execution_count": 6,
   "metadata": {},
   "outputs": [
    {
     "data": {
      "text/html": [
       "<div>\n",
       "<style scoped>\n",
       "    .dataframe tbody tr th:only-of-type {\n",
       "        vertical-align: middle;\n",
       "    }\n",
       "\n",
       "    .dataframe tbody tr th {\n",
       "        vertical-align: top;\n",
       "    }\n",
       "\n",
       "    .dataframe thead th {\n",
       "        text-align: right;\n",
       "    }\n",
       "</style>\n",
       "<table border=\"1\" class=\"dataframe\">\n",
       "  <thead>\n",
       "    <tr style=\"text-align: right;\">\n",
       "      <th></th>\n",
       "      <th>timestamp</th>\n",
       "      <th>frequency</th>\n",
       "      <th>voltage</th>\n",
       "      <th>current</th>\n",
       "      <th>phase_angle</th>\n",
       "      <th>anomaly_type</th>\n",
       "      <th>anomaly_class</th>\n",
       "    </tr>\n",
       "  </thead>\n",
       "  <tbody>\n",
       "    <tr>\n",
       "      <th>0</th>\n",
       "      <td>2024-09-30 13:42:02.470688</td>\n",
       "      <td>60.000000</td>\n",
       "      <td>1.000000</td>\n",
       "      <td>0.950000</td>\n",
       "      <td>0.014385</td>\n",
       "      <td>Normal</td>\n",
       "      <td>0</td>\n",
       "    </tr>\n",
       "    <tr>\n",
       "      <th>1</th>\n",
       "      <td>2024-09-30 13:42:03.470688</td>\n",
       "      <td>59.999950</td>\n",
       "      <td>0.999800</td>\n",
       "      <td>0.950419</td>\n",
       "      <td>0.056260</td>\n",
       "      <td>Normal</td>\n",
       "      <td>0</td>\n",
       "    </tr>\n",
       "    <tr>\n",
       "      <th>2</th>\n",
       "      <td>2024-09-30 13:42:04.470688</td>\n",
       "      <td>59.999900</td>\n",
       "      <td>0.999599</td>\n",
       "      <td>0.950838</td>\n",
       "      <td>0.098063</td>\n",
       "      <td>Normal</td>\n",
       "      <td>0</td>\n",
       "    </tr>\n",
       "    <tr>\n",
       "      <th>3</th>\n",
       "      <td>2024-09-30 13:42:05.470688</td>\n",
       "      <td>59.999849</td>\n",
       "      <td>0.999399</td>\n",
       "      <td>0.951256</td>\n",
       "      <td>0.139718</td>\n",
       "      <td>Normal</td>\n",
       "      <td>0</td>\n",
       "    </tr>\n",
       "    <tr>\n",
       "      <th>4</th>\n",
       "      <td>2024-09-30 13:42:06.470688</td>\n",
       "      <td>59.999799</td>\n",
       "      <td>0.999199</td>\n",
       "      <td>0.951673</td>\n",
       "      <td>0.181154</td>\n",
       "      <td>Normal</td>\n",
       "      <td>0</td>\n",
       "    </tr>\n",
       "  </tbody>\n",
       "</table>\n",
       "</div>"
      ],
      "text/plain": [
       "                    timestamp  frequency   voltage   current  phase_angle  \\\n",
       "0  2024-09-30 13:42:02.470688  60.000000  1.000000  0.950000     0.014385   \n",
       "1  2024-09-30 13:42:03.470688  59.999950  0.999800  0.950419     0.056260   \n",
       "2  2024-09-30 13:42:04.470688  59.999900  0.999599  0.950838     0.098063   \n",
       "3  2024-09-30 13:42:05.470688  59.999849  0.999399  0.951256     0.139718   \n",
       "4  2024-09-30 13:42:06.470688  59.999799  0.999199  0.951673     0.181154   \n",
       "\n",
       "  anomaly_type  anomaly_class  \n",
       "0       Normal              0  \n",
       "1       Normal              0  \n",
       "2       Normal              0  \n",
       "3       Normal              0  \n",
       "4       Normal              0  "
      ]
     },
     "execution_count": 6,
     "metadata": {},
     "output_type": "execute_result"
    }
   ],
   "source": [
    "pmu.head()"
   ]
  },
  {
   "cell_type": "code",
   "execution_count": 16,
   "metadata": {},
   "outputs": [],
   "source": [
    "class RoCoFDetector:\n",
    "    @staticmethod\n",
    "    def calculate_rocof(frequency):\n",
    "        rocof = np.diff(frequency, prepend=frequency[0])  # Rate of Change of Frequency\n",
    "        return rocof\n",
    "    def detect(self, rocof, threshold=0.125):\n",
    "        \n",
    "        anomalies = np.abs(rocof) > threshold\n",
    "        return anomalies"
   ]
  },
  {
   "cell_type": "code",
   "execution_count": 23,
   "metadata": {},
   "outputs": [],
   "source": [
    "class TKEODetector:\n",
    "    def detect(self, signal, threshold=0.05):\n",
    "        teager = self.teager_kaiser_energy_operator(signal)\n",
    "        anomalies = teager > threshold\n",
    "        return anomalies\n",
    "\n",
    "    @staticmethod\n",
    "    def teager_kaiser_energy_operator(signal):\n",
    "        teager = np.zeros(len(signal))\n",
    "        teager[1:-1] = signal[1:-1]**2 - signal[0:-2] * signal[2:]\n",
    "        return teager"
   ]
  },
  {
   "cell_type": "code",
   "execution_count": 35,
   "metadata": {},
   "outputs": [],
   "source": [
    "from scipy.stats import zscore\n",
    "\n",
    "# Z-Score Detector\n",
    "class ZscoreDetector:\n",
    "    def detect(self, data_frame, col_list:list, threshold=3):\n",
    "        z_scores = np.abs(zscore(data_frame[col_list], nan_policy='omit'))\n",
    "        anomalies = (z_scores > threshold).any(axis=1)\n",
    "        return anomalies"
   ]
  },
  {
   "cell_type": "code",
   "execution_count": 13,
   "metadata": {},
   "outputs": [],
   "source": [
    "pmu[\"rocof\"] = RoCoFDetector.calculate_rocof(pmu[\"frequency\"])"
   ]
  },
  {
   "cell_type": "code",
   "execution_count": 17,
   "metadata": {},
   "outputs": [],
   "source": [
    "rocof_detector = RoCoFDetector()"
   ]
  },
  {
   "cell_type": "code",
   "execution_count": 45,
   "metadata": {},
   "outputs": [],
   "source": [
    "rocof_anomalies = rocof_detector.detect(pmu[\"rocof\"], threshold=0.125)"
   ]
  },
  {
   "cell_type": "code",
   "execution_count": 46,
   "metadata": {},
   "outputs": [
    {
     "data": {
      "text/plain": [
       "array([[59884,    88],\n",
       "       [   20,     8]])"
      ]
     },
     "execution_count": 46,
     "metadata": {},
     "output_type": "execute_result"
    }
   ],
   "source": [
    "confusion_matrix(pmu[\"anomaly_class\"], rocof_anomalies)"
   ]
  },
  {
   "cell_type": "code",
   "execution_count": 24,
   "metadata": {},
   "outputs": [],
   "source": [
    "tkeo_detector = TKEODetector()"
   ]
  },
  {
   "cell_type": "code",
   "execution_count": 27,
   "metadata": {},
   "outputs": [],
   "source": [
    "fre_tkeo_anomalies = tkeo_detector.detect(pmu[\"frequency\"].values)\n",
    "vol_tkeo_anomalies = tkeo_detector.detect(pmu[\"voltage\"].values)\n",
    "curr_tkeo_anomalies = tkeo_detector.detect(pmu[\"current\"].values)\n",
    "phase_tkeo_anomalies = tkeo_detector.detect(pmu[\"phase_angle\"].values)\n"
   ]
  },
  {
   "cell_type": "code",
   "execution_count": 29,
   "metadata": {},
   "outputs": [
    {
     "data": {
      "text/plain": [
       "array([[59874,    98],\n",
       "       [   24,     4]])"
      ]
     },
     "execution_count": 29,
     "metadata": {},
     "output_type": "execute_result"
    }
   ],
   "source": [
    "confusion_matrix(pmu[\"anomaly_class\"], fre_tkeo_anomalies)"
   ]
  },
  {
   "cell_type": "code",
   "execution_count": 30,
   "metadata": {},
   "outputs": [
    {
     "data": {
      "text/plain": [
       "array([[59964,     8],\n",
       "       [   26,     2]])"
      ]
     },
     "execution_count": 30,
     "metadata": {},
     "output_type": "execute_result"
    }
   ],
   "source": [
    "confusion_matrix(pmu[\"anomaly_class\"], vol_tkeo_anomalies)"
   ]
  },
  {
   "cell_type": "code",
   "execution_count": 31,
   "metadata": {},
   "outputs": [
    {
     "data": {
      "text/plain": [
       "array([[59972,     0],\n",
       "       [   28,     0]])"
      ]
     },
     "execution_count": 31,
     "metadata": {},
     "output_type": "execute_result"
    }
   ],
   "source": [
    "confusion_matrix(pmu[\"anomaly_class\"], curr_tkeo_anomalies)"
   ]
  },
  {
   "cell_type": "code",
   "execution_count": 32,
   "metadata": {},
   "outputs": [
    {
     "data": {
      "text/plain": [
       "array([[59960,    12],\n",
       "       [   25,     3]])"
      ]
     },
     "execution_count": 32,
     "metadata": {},
     "output_type": "execute_result"
    }
   ],
   "source": [
    "confusion_matrix(pmu[\"anomaly_class\"], phase_tkeo_anomalies)"
   ]
  },
  {
   "cell_type": "code",
   "execution_count": 33,
   "metadata": {},
   "outputs": [],
   "source": [
    "combined_anomalies = fre_tkeo_anomalies | vol_tkeo_anomalies | curr_tkeo_anomalies | phase_tkeo_anomalies"
   ]
  },
  {
   "cell_type": "code",
   "execution_count": 34,
   "metadata": {},
   "outputs": [
    {
     "data": {
      "text/plain": [
       "array([[59854,   118],\n",
       "       [   19,     9]])"
      ]
     },
     "execution_count": 34,
     "metadata": {},
     "output_type": "execute_result"
    }
   ],
   "source": [
    "confusion_matrix(pmu[\"anomaly_class\"], combined_anomalies)"
   ]
  },
  {
   "cell_type": "code",
   "execution_count": 36,
   "metadata": {},
   "outputs": [],
   "source": [
    "z_score_list = ['frequency', 'voltage', 'current', 'phase_angle']\n",
    "\n",
    "z_score_detector = ZscoreDetector()"
   ]
  },
  {
   "cell_type": "code",
   "execution_count": 43,
   "metadata": {},
   "outputs": [],
   "source": [
    "z_score_anomalies = z_score_detector.detect(pmu, col_list=z_score_list, threshold=3.5)"
   ]
  },
  {
   "cell_type": "code",
   "execution_count": 44,
   "metadata": {},
   "outputs": [
    {
     "data": {
      "text/plain": [
       "array([[59748,   224],\n",
       "       [   15,    13]])"
      ]
     },
     "execution_count": 44,
     "metadata": {},
     "output_type": "execute_result"
    }
   ],
   "source": [
    "confusion_matrix(pmu[\"anomaly_class\"], z_score_anomalies)"
   ]
  },
  {
   "cell_type": "code",
   "execution_count": 47,
   "metadata": {},
   "outputs": [
    {
     "data": {
      "text/plain": [
       "array([[59670,   302],\n",
       "       [   10,    18]])"
      ]
     },
     "execution_count": 47,
     "metadata": {},
     "output_type": "execute_result"
    }
   ],
   "source": [
    "full_anomalies = combined_anomalies | z_score_anomalies | rocof_anomalies\n",
    "\n",
    "confusion_matrix(pmu[\"anomaly_class\"], full_anomalies)"
   ]
  },
  {
   "cell_type": "code",
   "execution_count": 48,
   "metadata": {},
   "outputs": [
    {
     "data": {
      "text/plain": [
       "0.10344827586206896"
      ]
     },
     "execution_count": 48,
     "metadata": {},
     "output_type": "execute_result"
    }
   ],
   "source": [
    "f1_score(pmu[\"anomaly_class\"], full_anomalies)"
   ]
  },
  {
   "cell_type": "code",
   "execution_count": 49,
   "metadata": {},
   "outputs": [
    {
     "data": {
      "text/plain": [
       "0.9948"
      ]
     },
     "execution_count": 49,
     "metadata": {},
     "output_type": "execute_result"
    }
   ],
   "source": [
    "accuracy_score(pmu[\"anomaly_class\"], full_anomalies)"
   ]
  },
  {
   "cell_type": "code",
   "execution_count": 50,
   "metadata": {},
   "outputs": [
    {
     "data": {
      "text/plain": [
       "0.05625"
      ]
     },
     "execution_count": 50,
     "metadata": {},
     "output_type": "execute_result"
    }
   ],
   "source": [
    "precision_score(pmu[\"anomaly_class\"], full_anomalies)"
   ]
  },
  {
   "cell_type": "code",
   "execution_count": 51,
   "metadata": {},
   "outputs": [
    {
     "data": {
      "text/plain": [
       "0.6428571428571429"
      ]
     },
     "execution_count": 51,
     "metadata": {},
     "output_type": "execute_result"
    }
   ],
   "source": [
    "recall_score(pmu[\"anomaly_class\"], full_anomalies)"
   ]
  },
  {
   "cell_type": "code",
   "execution_count": 52,
   "metadata": {},
   "outputs": [],
   "source": [
    "# Drop the timestamp column and normalize the data\n",
    "from sklearn.preprocessing import MinMaxScaler\n",
    "scaler = MinMaxScaler()\n",
    "scaled_data = scaler.fit_transform(pmu[['frequency', 'voltage', 'current', 'phase_angle']])\n"
   ]
  },
  {
   "cell_type": "code",
   "execution_count": 56,
   "metadata": {},
   "outputs": [],
   "source": [
    "from sklearn.cluster import KMeans\n",
    "from sklearn.metrics import pairwise_distances_argmin_min\n",
    "\n",
    "# Fit KMeans to the PMU data (scaled)\n",
    "kmeans = KMeans(n_clusters=2, random_state=42)\n",
    "kmeans.fit(scaled_data)\n",
    "\n",
    "# Calculate the distance of each point to its closest cluster centroid\n",
    "_, distances = pairwise_distances_argmin_min(kmeans.cluster_centers_, scaled_data)\n",
    "\n",
    "# Set a threshold based on the 90th percentile of the distances\n",
    "kmeans_threshold = np.percentile(distances, 90)\n",
    "\n",
    "# Detect anomalies\n",
    "kmeans_anomalies = distances > kmeans_threshold"
   ]
  },
  {
   "cell_type": "code",
   "execution_count": 67,
   "metadata": {},
   "outputs": [],
   "source": [
    "kmeans_anomalies = kmeans.transform(scaled_data).argmax(axis=1)"
   ]
  },
  {
   "cell_type": "code",
   "execution_count": 68,
   "metadata": {},
   "outputs": [
    {
     "data": {
      "text/plain": [
       "array([[29914, 30058],\n",
       "       [    9,    19]])"
      ]
     },
     "execution_count": 68,
     "metadata": {},
     "output_type": "execute_result"
    }
   ],
   "source": [
    "confusion_matrix(pmu[\"anomaly_class\"], kmeans_anomalies)"
   ]
  },
  {
   "cell_type": "code",
   "execution_count": 69,
   "metadata": {},
   "outputs": [
    {
     "data": {
      "text/plain": [
       "array([[59963,     9],\n",
       "       [   27,     1]])"
      ]
     },
     "execution_count": 69,
     "metadata": {},
     "output_type": "execute_result"
    }
   ],
   "source": [
    "from sklearn.cluster import DBSCAN\n",
    "\n",
    "# Fit DBSCAN to the PMU data\n",
    "dbscan = DBSCAN(eps=0.3, min_samples=10)\n",
    "dbscan.fit(scaled_data)\n",
    "\n",
    "# In DBSCAN, points with label -1 are anomalies\n",
    "dbscan_anomalies = dbscan.labels_ == 1\n",
    "\n",
    "confusion_matrix(pmu[\"anomaly_class\"], dbscan_anomalies)"
   ]
  },
  {
   "cell_type": "code",
   "execution_count": 70,
   "metadata": {},
   "outputs": [],
   "source": [
    "# \n",
    "from sklearn.ensemble import IsolationForest\n",
    "\n",
    "# Isolation forest \n",
    "outliers_fraction = 0.01\n",
    "ifo = IsolationForest(contamination = outliers_fraction)\n",
    "\n",
    "ifo.fit(scaled_data)\n",
    "\n",
    "ifo_anomailes = ifo.predict(scaled_data)"
   ]
  },
  {
   "cell_type": "code",
   "execution_count": 81,
   "metadata": {},
   "outputs": [],
   "source": [
    "np.unique(ifo_anomailes)\n",
    "iifo_anomailes = np.where(ifo_anomailes == -1, 1, 0)"
   ]
  },
  {
   "cell_type": "code",
   "execution_count": 82,
   "metadata": {},
   "outputs": [
    {
     "data": {
      "text/plain": [
       "array([[59382,   590],\n",
       "       [   18,    10]])"
      ]
     },
     "execution_count": 82,
     "metadata": {},
     "output_type": "execute_result"
    }
   ],
   "source": [
    "confusion_matrix(pmu[\"anomaly_class\"], iifo_anomailes)"
   ]
  },
  {
   "cell_type": "code",
   "execution_count": 83,
   "metadata": {},
   "outputs": [
    {
     "name": "stderr",
     "output_type": "stream",
     "text": [
      "2024-09-30 14:38:51.612791: E external/local_xla/xla/stream_executor/cuda/cuda_dnn.cc:9261] Unable to register cuDNN factory: Attempting to register factory for plugin cuDNN when one has already been registered\n",
      "2024-09-30 14:38:51.612953: E external/local_xla/xla/stream_executor/cuda/cuda_fft.cc:607] Unable to register cuFFT factory: Attempting to register factory for plugin cuFFT when one has already been registered\n",
      "2024-09-30 14:38:51.730871: E external/local_xla/xla/stream_executor/cuda/cuda_blas.cc:1515] Unable to register cuBLAS factory: Attempting to register factory for plugin cuBLAS when one has already been registered\n",
      "2024-09-30 14:38:51.983919: I tensorflow/core/platform/cpu_feature_guard.cc:182] This TensorFlow binary is optimized to use available CPU instructions in performance-critical operations.\n",
      "To enable the following instructions: AVX2 AVX512F FMA, in other operations, rebuild TensorFlow with the appropriate compiler flags.\n",
      "2024-09-30 14:38:57.216125: W tensorflow/compiler/tf2tensorrt/utils/py_utils.cc:38] TF-TRT Warning: Could not find TensorRT\n"
     ]
    }
   ],
   "source": [
    "import tensorflow as tf\n",
    "from tensorflow.keras import layers, losses\n",
    "from sklearn.model_selection import train_test_split\n",
    "from tensorflow.keras.models import Model\n",
    "\n",
    "import warnings\n",
    "warnings.filterwarnings('ignore')\n"
   ]
  },
  {
   "cell_type": "code",
   "execution_count": 84,
   "metadata": {},
   "outputs": [
    {
     "data": {
      "text/html": [
       "<div>\n",
       "<style scoped>\n",
       "    .dataframe tbody tr th:only-of-type {\n",
       "        vertical-align: middle;\n",
       "    }\n",
       "\n",
       "    .dataframe tbody tr th {\n",
       "        vertical-align: top;\n",
       "    }\n",
       "\n",
       "    .dataframe thead th {\n",
       "        text-align: right;\n",
       "    }\n",
       "</style>\n",
       "<table border=\"1\" class=\"dataframe\">\n",
       "  <thead>\n",
       "    <tr style=\"text-align: right;\">\n",
       "      <th></th>\n",
       "      <th>timestamp</th>\n",
       "      <th>frequency</th>\n",
       "      <th>voltage</th>\n",
       "      <th>current</th>\n",
       "      <th>phase_angle</th>\n",
       "      <th>anomaly_type</th>\n",
       "      <th>anomaly_class</th>\n",
       "      <th>rocof</th>\n",
       "      <th>rocof_anomalies</th>\n",
       "    </tr>\n",
       "  </thead>\n",
       "  <tbody>\n",
       "    <tr>\n",
       "      <th>0</th>\n",
       "      <td>2024-09-30 13:42:02.470688</td>\n",
       "      <td>60.000000</td>\n",
       "      <td>1.000000</td>\n",
       "      <td>0.950000</td>\n",
       "      <td>0.014385</td>\n",
       "      <td>Normal</td>\n",
       "      <td>0</td>\n",
       "      <td>0.00000</td>\n",
       "      <td>False</td>\n",
       "    </tr>\n",
       "    <tr>\n",
       "      <th>1</th>\n",
       "      <td>2024-09-30 13:42:03.470688</td>\n",
       "      <td>59.999950</td>\n",
       "      <td>0.999800</td>\n",
       "      <td>0.950419</td>\n",
       "      <td>0.056260</td>\n",
       "      <td>Normal</td>\n",
       "      <td>0</td>\n",
       "      <td>-0.00005</td>\n",
       "      <td>False</td>\n",
       "    </tr>\n",
       "    <tr>\n",
       "      <th>2</th>\n",
       "      <td>2024-09-30 13:42:04.470688</td>\n",
       "      <td>59.999900</td>\n",
       "      <td>0.999599</td>\n",
       "      <td>0.950838</td>\n",
       "      <td>0.098063</td>\n",
       "      <td>Normal</td>\n",
       "      <td>0</td>\n",
       "      <td>-0.00005</td>\n",
       "      <td>False</td>\n",
       "    </tr>\n",
       "    <tr>\n",
       "      <th>3</th>\n",
       "      <td>2024-09-30 13:42:05.470688</td>\n",
       "      <td>59.999849</td>\n",
       "      <td>0.999399</td>\n",
       "      <td>0.951256</td>\n",
       "      <td>0.139718</td>\n",
       "      <td>Normal</td>\n",
       "      <td>0</td>\n",
       "      <td>-0.00005</td>\n",
       "      <td>False</td>\n",
       "    </tr>\n",
       "    <tr>\n",
       "      <th>4</th>\n",
       "      <td>2024-09-30 13:42:06.470688</td>\n",
       "      <td>59.999799</td>\n",
       "      <td>0.999199</td>\n",
       "      <td>0.951673</td>\n",
       "      <td>0.181154</td>\n",
       "      <td>Normal</td>\n",
       "      <td>0</td>\n",
       "      <td>-0.00005</td>\n",
       "      <td>False</td>\n",
       "    </tr>\n",
       "  </tbody>\n",
       "</table>\n",
       "</div>"
      ],
      "text/plain": [
       "                    timestamp  frequency   voltage   current  phase_angle  \\\n",
       "0  2024-09-30 13:42:02.470688  60.000000  1.000000  0.950000     0.014385   \n",
       "1  2024-09-30 13:42:03.470688  59.999950  0.999800  0.950419     0.056260   \n",
       "2  2024-09-30 13:42:04.470688  59.999900  0.999599  0.950838     0.098063   \n",
       "3  2024-09-30 13:42:05.470688  59.999849  0.999399  0.951256     0.139718   \n",
       "4  2024-09-30 13:42:06.470688  59.999799  0.999199  0.951673     0.181154   \n",
       "\n",
       "  anomaly_type  anomaly_class    rocof  rocof_anomalies  \n",
       "0       Normal              0  0.00000            False  \n",
       "1       Normal              0 -0.00005            False  \n",
       "2       Normal              0 -0.00005            False  \n",
       "3       Normal              0 -0.00005            False  \n",
       "4       Normal              0 -0.00005            False  "
      ]
     },
     "execution_count": 84,
     "metadata": {},
     "output_type": "execute_result"
    }
   ],
   "source": [
    "pmu.head()"
   ]
  },
  {
   "cell_type": "code",
   "execution_count": 87,
   "metadata": {},
   "outputs": [],
   "source": [
    "#separate the data and labels so that it will be easy for understanding\n",
    "data = pmu[[\"frequency\", \"voltage\", \"current\", \"phase_angle\", \"rocof\"]].values\n",
    "labels = pmu[[\"anomaly_class\"]].values\n"
   ]
  },
  {
   "cell_type": "code",
   "execution_count": 114,
   "metadata": {},
   "outputs": [
    {
     "data": {
      "text/plain": [
       "anomaly_class\n",
       "0    59972\n",
       "1       28\n",
       "Name: count, dtype: int64"
      ]
     },
     "execution_count": 114,
     "metadata": {},
     "output_type": "execute_result"
    }
   ],
   "source": [
    "pmu[\"anomaly_class\"].value_counts()"
   ]
  },
  {
   "cell_type": "code",
   "execution_count": 188,
   "metadata": {},
   "outputs": [
    {
     "name": "stdout",
     "output_type": "stream",
     "text": [
      "Data window shape: (59881, 120, 5)\n",
      "Label window shape: (59881,)\n"
     ]
    }
   ],
   "source": [
    "timestep = 120\n",
    "overlap = 1\n",
    "\n",
    "# 데이터에 윈도우 적용\n",
    "data_window = [data[i:i + timestep] for i in range(0, data.shape[0] - timestep + 1, overlap)]\n",
    "data_window_array = np.array(data_window)\n",
    "\n",
    "# 라벨에 윈도우 적용\n",
    "label_window = [labels[i:i + timestep] for i in range(0, labels.shape[0] - timestep + 1, overlap)]\n",
    "\n",
    "# 각 윈도우의 라벨을 결정\n",
    "label_window_array = []\n",
    "for window in label_window:\n",
    "    if 1 in window:  # 윈도우 안에 1이 있는지 확인\n",
    "        label_window_array.append(1)\n",
    "    else:\n",
    "        label_window_array.append(np.argmax(np.bincount(window.flatten())))\n",
    "\n",
    "label_window_array = np.array(label_window_array)\n",
    "\n",
    "# 결과 확인\n",
    "print(\"Data window shape:\", data_window_array.shape)\n",
    "print(\"Label window shape:\", label_window_array.shape)"
   ]
  },
  {
   "cell_type": "code",
   "execution_count": 189,
   "metadata": {},
   "outputs": [],
   "source": [
    "labeled_data = data_window_array[np.where(label_window_array > 0)]"
   ]
  },
  {
   "cell_type": "code",
   "execution_count": 206,
   "metadata": {},
   "outputs": [
    {
     "data": {
      "text/plain": [
       "(array([  328,   329,   330, ..., 59222, 59223, 59224]),)"
      ]
     },
     "execution_count": 206,
     "metadata": {},
     "output_type": "execute_result"
    }
   ],
   "source": [
    "np.where(label_window_array > 0)"
   ]
  },
  {
   "cell_type": "code",
   "execution_count": 190,
   "metadata": {},
   "outputs": [
    {
     "data": {
      "text/plain": [
       "(3359, 120, 5)"
      ]
     },
     "execution_count": 190,
     "metadata": {},
     "output_type": "execute_result"
    }
   ],
   "source": [
    "labeled_data.shape"
   ]
  },
  {
   "cell_type": "code",
   "execution_count": 212,
   "metadata": {},
   "outputs": [
    {
     "data": {
      "image/png": "[encoded data removed]",
      "text/plain": [
       "<Figure size 640x480 with 1 Axes>"
      ]
     },
     "metadata": {},
     "output_type": "display_data"
    }
   ],
   "source": [
    "plt.plot(np.arange(timestep), data_window_array[59223][:, 4])\n",
    "plt.grid()\n",
    "plt.title('anomaly')\n",
    "plt.show()"
   ]
  },
  {
   "cell_type": "code",
   "execution_count": 213,
   "metadata": {},
   "outputs": [
    {
     "data": {
      "text/html": [
       "<div>\n",
       "<style scoped>\n",
       "    .dataframe tbody tr th:only-of-type {\n",
       "        vertical-align: middle;\n",
       "    }\n",
       "\n",
       "    .dataframe tbody tr th {\n",
       "        vertical-align: top;\n",
       "    }\n",
       "\n",
       "    .dataframe thead th {\n",
       "        text-align: right;\n",
       "    }\n",
       "</style>\n",
       "<table border=\"1\" class=\"dataframe\">\n",
       "  <thead>\n",
       "    <tr style=\"text-align: right;\">\n",
       "      <th></th>\n",
       "      <th>timestamp</th>\n",
       "      <th>frequency</th>\n",
       "      <th>voltage</th>\n",
       "      <th>current</th>\n",
       "      <th>phase_angle</th>\n",
       "      <th>anomaly_type</th>\n",
       "      <th>anomaly_class</th>\n",
       "      <th>rocof</th>\n",
       "      <th>rocof_anomalies</th>\n",
       "    </tr>\n",
       "  </thead>\n",
       "  <tbody>\n",
       "    <tr>\n",
       "      <th>0</th>\n",
       "      <td>2024-09-30 13:42:02.470688</td>\n",
       "      <td>60.000000</td>\n",
       "      <td>1.000000</td>\n",
       "      <td>0.950000</td>\n",
       "      <td>0.014385</td>\n",
       "      <td>Normal</td>\n",
       "      <td>0</td>\n",
       "      <td>0.000000</td>\n",
       "      <td>False</td>\n",
       "    </tr>\n",
       "    <tr>\n",
       "      <th>1</th>\n",
       "      <td>2024-09-30 13:42:03.470688</td>\n",
       "      <td>59.999950</td>\n",
       "      <td>0.999800</td>\n",
       "      <td>0.950419</td>\n",
       "      <td>0.056260</td>\n",
       "      <td>Normal</td>\n",
       "      <td>0</td>\n",
       "      <td>-0.000050</td>\n",
       "      <td>False</td>\n",
       "    </tr>\n",
       "    <tr>\n",
       "      <th>2</th>\n",
       "      <td>2024-09-30 13:42:04.470688</td>\n",
       "      <td>59.999900</td>\n",
       "      <td>0.999599</td>\n",
       "      <td>0.950838</td>\n",
       "      <td>0.098063</td>\n",
       "      <td>Normal</td>\n",
       "      <td>0</td>\n",
       "      <td>-0.000050</td>\n",
       "      <td>False</td>\n",
       "    </tr>\n",
       "    <tr>\n",
       "      <th>3</th>\n",
       "      <td>2024-09-30 13:42:05.470688</td>\n",
       "      <td>59.999849</td>\n",
       "      <td>0.999399</td>\n",
       "      <td>0.951256</td>\n",
       "      <td>0.139718</td>\n",
       "      <td>Normal</td>\n",
       "      <td>0</td>\n",
       "      <td>-0.000050</td>\n",
       "      <td>False</td>\n",
       "    </tr>\n",
       "    <tr>\n",
       "      <th>4</th>\n",
       "      <td>2024-09-30 13:42:06.470688</td>\n",
       "      <td>59.999799</td>\n",
       "      <td>0.999199</td>\n",
       "      <td>0.951673</td>\n",
       "      <td>0.181154</td>\n",
       "      <td>Normal</td>\n",
       "      <td>0</td>\n",
       "      <td>-0.000050</td>\n",
       "      <td>False</td>\n",
       "    </tr>\n",
       "    <tr>\n",
       "      <th>...</th>\n",
       "      <td>...</td>\n",
       "      <td>...</td>\n",
       "      <td>...</td>\n",
       "      <td>...</td>\n",
       "      <td>...</td>\n",
       "      <td>...</td>\n",
       "      <td>...</td>\n",
       "      <td>...</td>\n",
       "      <td>...</td>\n",
       "    </tr>\n",
       "    <tr>\n",
       "      <th>59995</th>\n",
       "      <td>2024-09-30 13:51:58.169206</td>\n",
       "      <td>60.000223</td>\n",
       "      <td>1.000094</td>\n",
       "      <td>0.948255</td>\n",
       "      <td>-0.193799</td>\n",
       "      <td>Normal</td>\n",
       "      <td>0</td>\n",
       "      <td>-0.000045</td>\n",
       "      <td>False</td>\n",
       "    </tr>\n",
       "    <tr>\n",
       "      <th>59996</th>\n",
       "      <td>2024-09-30 13:51:59.169206</td>\n",
       "      <td>60.000179</td>\n",
       "      <td>1.000094</td>\n",
       "      <td>0.948602</td>\n",
       "      <td>-0.152656</td>\n",
       "      <td>Normal</td>\n",
       "      <td>0</td>\n",
       "      <td>-0.000045</td>\n",
       "      <td>False</td>\n",
       "    </tr>\n",
       "    <tr>\n",
       "      <th>59997</th>\n",
       "      <td>2024-09-30 13:52:00.169206</td>\n",
       "      <td>60.000134</td>\n",
       "      <td>1.000056</td>\n",
       "      <td>0.948950</td>\n",
       "      <td>-0.111221</td>\n",
       "      <td>Normal</td>\n",
       "      <td>0</td>\n",
       "      <td>-0.000045</td>\n",
       "      <td>False</td>\n",
       "    </tr>\n",
       "    <tr>\n",
       "      <th>59998</th>\n",
       "      <td>2024-09-30 13:52:01.169206</td>\n",
       "      <td>60.000089</td>\n",
       "      <td>1.000038</td>\n",
       "      <td>0.949300</td>\n",
       "      <td>-0.069565</td>\n",
       "      <td>Normal</td>\n",
       "      <td>0</td>\n",
       "      <td>-0.000045</td>\n",
       "      <td>False</td>\n",
       "    </tr>\n",
       "    <tr>\n",
       "      <th>59999</th>\n",
       "      <td>2024-09-30 13:52:02.169206</td>\n",
       "      <td>60.000045</td>\n",
       "      <td>1.000019</td>\n",
       "      <td>0.949650</td>\n",
       "      <td>-0.027763</td>\n",
       "      <td>Normal</td>\n",
       "      <td>0</td>\n",
       "      <td>-0.000045</td>\n",
       "      <td>False</td>\n",
       "    </tr>\n",
       "  </tbody>\n",
       "</table>\n",
       "<p>60000 rows × 9 columns</p>\n",
       "</div>"
      ],
      "text/plain": [
       "                        timestamp  frequency   voltage   current  phase_angle  \\\n",
       "0      2024-09-30 13:42:02.470688  60.000000  1.000000  0.950000     0.014385   \n",
       "1      2024-09-30 13:42:03.470688  59.999950  0.999800  0.950419     0.056260   \n",
       "2      2024-09-30 13:42:04.470688  59.999900  0.999599  0.950838     0.098063   \n",
       "3      2024-09-30 13:42:05.470688  59.999849  0.999399  0.951256     0.139718   \n",
       "4      2024-09-30 13:42:06.470688  59.999799  0.999199  0.951673     0.181154   \n",
       "...                           ...        ...       ...       ...          ...   \n",
       "59995  2024-09-30 13:51:58.169206  60.000223  1.000094  0.948255    -0.193799   \n",
       "59996  2024-09-30 13:51:59.169206  60.000179  1.000094  0.948602    -0.152656   \n",
       "59997  2024-09-30 13:52:00.169206  60.000134  1.000056  0.948950    -0.111221   \n",
       "59998  2024-09-30 13:52:01.169206  60.000089  1.000038  0.949300    -0.069565   \n",
       "59999  2024-09-30 13:52:02.169206  60.000045  1.000019  0.949650    -0.027763   \n",
       "\n",
       "      anomaly_type  anomaly_class     rocof  rocof_anomalies  \n",
       "0           Normal              0  0.000000            False  \n",
       "1           Normal              0 -0.000050            False  \n",
       "2           Normal              0 -0.000050            False  \n",
       "3           Normal              0 -0.000050            False  \n",
       "4           Normal              0 -0.000050            False  \n",
       "...            ...            ...       ...              ...  \n",
       "59995       Normal              0 -0.000045            False  \n",
       "59996       Normal              0 -0.000045            False  \n",
       "59997       Normal              0 -0.000045            False  \n",
       "59998       Normal              0 -0.000045            False  \n",
       "59999       Normal              0 -0.000045            False  \n",
       "\n",
       "[60000 rows x 9 columns]"
      ]
     },
     "execution_count": 213,
     "metadata": {},
     "output_type": "execute_result"
    }
   ],
   "source": [
    "pmu"
   ]
  },
  {
   "cell_type": "code",
   "execution_count": 214,
   "metadata": {},
   "outputs": [],
   "source": [
    "\n",
    "from sklearn.preprocessing import StandardScaler\n",
    "scaler = StandardScaler()\n",
    "scaled_data = scaler.fit_transform(pmu[['frequency', 'voltage', 'current', 'phase_angle']])\n",
    "\n",
    "# 정상 상태 데이터만 사용하여 오토인코더 학습\n",
    "normal_data = scaled_data[pmu['anomaly_class'] == 0]\n",
    "\n",
    "# 오토인코더 모델 정의\n",
    "def build_autoencoder(input_dim):\n",
    "    input_layer = layers.Input(shape=(input_dim,))\n",
    "    encoded = layers.Dense(32, activation='relu')(input_layer)\n",
    "    encoded = layers.Dense(16, activation='relu')(encoded)\n",
    "    encoded = layers.Dense(8, activation='relu')(encoded)\n",
    "    \n",
    "    decoded = layers.Dense(16, activation='relu')(encoded)\n",
    "    decoded = layers.Dense(32, activation='relu')(decoded)\n",
    "    decoded = layers.Dense(input_dim, activation='linear')(decoded)\n",
    "    \n",
    "    autoencoder = tf.keras.models.Model(input_layer, decoded)\n",
    "    autoencoder.compile(optimizer='adam', loss='mse')\n",
    "    return autoencoder"
   ]
  },
  {
   "cell_type": "code",
   "execution_count": 215,
   "metadata": {},
   "outputs": [
    {
     "name": "stderr",
     "output_type": "stream",
     "text": [
      "2024-09-30 15:09:40.910315: I external/local_xla/xla/stream_executor/cuda/cuda_executor.cc:887] could not open file to read NUMA node: /sys/bus/pci/devices/0000:b3:00.0/numa_node\n",
      "Your kernel may have been built without NUMA support.\n",
      "2024-09-30 15:09:41.376450: W tensorflow/core/common_runtime/gpu/gpu_device.cc:2256] Cannot dlopen some GPU libraries. Please make sure the missing libraries mentioned above are installed properly if you would like to use GPU. Follow the guide at https://www.tensorflow.org/install/gpu for how to download and setup the required libraries for your platform.\n",
      "Skipping registering GPU devices...\n"
     ]
    },
    {
     "name": "stdout",
     "output_type": "stream",
     "text": [
      "Epoch 1/50\n",
      "1500/1500 [==============================] - 8s 4ms/step - loss: 0.1401 - val_loss: 0.0038\n",
      "Epoch 2/50\n",
      "1500/1500 [==============================] - 5s 4ms/step - loss: 0.0058 - val_loss: 0.0033\n",
      "Epoch 3/50\n",
      "1500/1500 [==============================] - 5s 3ms/step - loss: 0.0059 - val_loss: 0.0182\n",
      "Epoch 4/50\n",
      "1500/1500 [==============================] - 5s 3ms/step - loss: 0.0045 - val_loss: 0.0056\n",
      "Epoch 5/50\n",
      "1500/1500 [==============================] - 5s 3ms/step - loss: 0.0034 - val_loss: 0.0013\n",
      "Epoch 6/50\n",
      "1500/1500 [==============================] - 5s 3ms/step - loss: 0.0042 - val_loss: 0.0014\n",
      "Epoch 7/50\n",
      "1500/1500 [==============================] - 5s 3ms/step - loss: 0.0030 - val_loss: 0.0025\n",
      "Epoch 8/50\n",
      "1500/1500 [==============================] - 5s 4ms/step - loss: 0.0038 - val_loss: 0.0067\n",
      "Epoch 9/50\n",
      "1500/1500 [==============================] - 6s 4ms/step - loss: 0.0034 - val_loss: 6.5727e-04\n",
      "Epoch 10/50\n",
      "1500/1500 [==============================] - 6s 4ms/step - loss: 0.0029 - val_loss: 5.3011e-04\n",
      "Epoch 11/50\n",
      "1500/1500 [==============================] - 5s 4ms/step - loss: 0.0023 - val_loss: 0.0044\n",
      "Epoch 12/50\n",
      "1500/1500 [==============================] - 5s 4ms/step - loss: 0.0038 - val_loss: 0.0010\n",
      "Epoch 13/50\n",
      "1500/1500 [==============================] - 5s 4ms/step - loss: 0.0027 - val_loss: 8.8357e-04\n",
      "Epoch 14/50\n",
      "1500/1500 [==============================] - 5s 4ms/step - loss: 0.0037 - val_loss: 0.0012\n",
      "Epoch 15/50\n",
      "1500/1500 [==============================] - 6s 4ms/step - loss: 0.0014 - val_loss: 2.5231e-04\n",
      "Epoch 16/50\n",
      "1500/1500 [==============================] - 5s 4ms/step - loss: 0.0021 - val_loss: 0.0013\n",
      "Epoch 17/50\n",
      "1500/1500 [==============================] - 5s 4ms/step - loss: 0.0030 - val_loss: 0.0064\n",
      "Epoch 18/50\n",
      "1500/1500 [==============================] - 6s 4ms/step - loss: 0.0027 - val_loss: 7.7452e-04\n",
      "Epoch 19/50\n",
      "1500/1500 [==============================] - 5s 3ms/step - loss: 0.0026 - val_loss: 1.4773e-04\n",
      "Epoch 20/50\n",
      "1500/1500 [==============================] - 5s 4ms/step - loss: 0.0021 - val_loss: 0.0012\n",
      "Epoch 21/50\n",
      "1500/1500 [==============================] - 5s 4ms/step - loss: 0.0022 - val_loss: 4.4456e-04\n",
      "Epoch 22/50\n",
      "1500/1500 [==============================] - 5s 3ms/step - loss: 0.0025 - val_loss: 7.8981e-04\n",
      "Epoch 23/50\n",
      "1500/1500 [==============================] - 6s 4ms/step - loss: 0.0030 - val_loss: 0.0011\n",
      "Epoch 24/50\n",
      "1500/1500 [==============================] - 5s 4ms/step - loss: 0.0020 - val_loss: 7.1231e-04\n",
      "Epoch 25/50\n",
      "1500/1500 [==============================] - 5s 4ms/step - loss: 0.0020 - val_loss: 4.7905e-04\n",
      "Epoch 26/50\n",
      "1500/1500 [==============================] - 5s 4ms/step - loss: 0.0026 - val_loss: 1.7154e-04\n",
      "Epoch 27/50\n",
      "1500/1500 [==============================] - 6s 4ms/step - loss: 0.0020 - val_loss: 2.4362e-04\n",
      "Epoch 28/50\n",
      "1500/1500 [==============================] - 6s 4ms/step - loss: 0.0031 - val_loss: 3.1156e-04\n",
      "Epoch 29/50\n",
      "1500/1500 [==============================] - 5s 4ms/step - loss: 0.0016 - val_loss: 0.0012\n",
      "Epoch 30/50\n",
      "1500/1500 [==============================] - 5s 4ms/step - loss: 0.0026 - val_loss: 1.3345e-04\n",
      "Epoch 31/50\n",
      "1500/1500 [==============================] - 5s 4ms/step - loss: 0.0012 - val_loss: 2.4522e-04\n",
      "Epoch 32/50\n",
      "1500/1500 [==============================] - 5s 4ms/step - loss: 0.0026 - val_loss: 1.2862e-04\n",
      "Epoch 33/50\n",
      "1500/1500 [==============================] - 6s 4ms/step - loss: 0.0027 - val_loss: 1.2647e-04\n",
      "Epoch 34/50\n",
      "1500/1500 [==============================] - 6s 4ms/step - loss: 0.0020 - val_loss: 4.6746e-04\n",
      "Epoch 35/50\n",
      "1500/1500 [==============================] - 6s 4ms/step - loss: 0.0025 - val_loss: 0.0015\n",
      "Epoch 36/50\n",
      "1500/1500 [==============================] - 6s 4ms/step - loss: 0.0011 - val_loss: 1.0617e-04\n",
      "Epoch 37/50\n",
      "1500/1500 [==============================] - 6s 4ms/step - loss: 0.0022 - val_loss: 1.2576e-04\n",
      "Epoch 38/50\n",
      "1500/1500 [==============================] - 5s 4ms/step - loss: 0.0023 - val_loss: 0.0011\n",
      "Epoch 39/50\n",
      "1500/1500 [==============================] - 5s 4ms/step - loss: 0.0024 - val_loss: 0.0029\n",
      "Epoch 40/50\n",
      "1500/1500 [==============================] - 6s 4ms/step - loss: 0.0012 - val_loss: 1.6962e-04\n",
      "Epoch 41/50\n",
      "1500/1500 [==============================] - 5s 4ms/step - loss: 0.0021 - val_loss: 0.0029\n",
      "Epoch 42/50\n",
      "1500/1500 [==============================] - 5s 3ms/step - loss: 0.0017 - val_loss: 4.3447e-04\n",
      "Epoch 43/50\n",
      "1500/1500 [==============================] - 5s 3ms/step - loss: 0.0012 - val_loss: 1.4614e-04\n",
      "Epoch 44/50\n",
      "1500/1500 [==============================] - 5s 4ms/step - loss: 0.0029 - val_loss: 8.5359e-05\n",
      "Epoch 45/50\n",
      "1500/1500 [==============================] - 5s 3ms/step - loss: 0.0019 - val_loss: 2.8517e-04\n",
      "Epoch 46/50\n",
      "1500/1500 [==============================] - 5s 4ms/step - loss: 0.0014 - val_loss: 2.1921e-04\n",
      "Epoch 47/50\n",
      "1500/1500 [==============================] - 5s 4ms/step - loss: 0.0013 - val_loss: 1.3259e-04\n",
      "Epoch 48/50\n",
      "1500/1500 [==============================] - 5s 3ms/step - loss: 0.0019 - val_loss: 1.0166e-04\n",
      "Epoch 49/50\n",
      "1500/1500 [==============================] - 5s 4ms/step - loss: 0.0020 - val_loss: 9.2977e-04\n",
      "Epoch 50/50\n",
      "1500/1500 [==============================] - 6s 4ms/step - loss: 0.0016 - val_loss: 7.9217e-05\n"
     ]
    },
    {
     "data": {
      "text/plain": [
       "<keras.src.callbacks.History at 0x7fda040bafb0>"
      ]
     },
     "execution_count": 215,
     "metadata": {},
     "output_type": "execute_result"
    }
   ],
   "source": [
    "# 모델 학습\n",
    "input_dim = normal_data.shape[1]\n",
    "autoencoder = build_autoencoder(input_dim)\n",
    "autoencoder.fit(normal_data, normal_data, epochs=50, batch_size=32, shuffle=True, validation_split=0.2)\n"
   ]
  },
  {
   "cell_type": "code",
   "execution_count": 220,
   "metadata": {},
   "outputs": [
    {
     "name": "stdout",
     "output_type": "stream",
     "text": [
      "1875/1875 [==============================] - 3s 2ms/step\n",
      "F1 Score: 0.0497\n",
      "Precision: 0.0260\n",
      "Recall: 0.5714\n"
     ]
    }
   ],
   "source": [
    "# 모든 데이터에 대해 재구성 오류 계산\n",
    "reconstructed_data = autoencoder.predict(scaled_data)\n",
    "reconstruction_error = np.mean(np.abs(reconstructed_data - scaled_data), axis=1)\n",
    "\n",
    "# 이상 탐지 기준: 재구성 오류가 일정 임계값 이상이면 이상으로 간주\n",
    "threshold = np.percentile(reconstruction_error[pmu['anomaly_class'] == 0], 99)  # 상위 5%를 임계값으로 설정\n",
    "predictions = (reconstruction_error > threshold).astype(int)\n",
    "\n",
    "# 성능 평가\n",
    "f1 = f1_score(pmu['anomaly_class'], predictions)\n",
    "precision = precision_score(pmu['anomaly_class'], predictions)\n",
    "recall = recall_score(pmu['anomaly_class'], predictions)\n",
    "\n",
    "print(f\"F1 Score: {f1:.4f}\")\n",
    "print(f\"Precision: {precision:.4f}\")\n",
    "print(f\"Recall: {recall:.4f}\")"
   ]
  },
  {
   "cell_type": "code",
   "execution_count": 221,
   "metadata": {},
   "outputs": [
    {
     "data": {
      "image/png": "[encoded data removed]",
      "text/plain": [
       "<Figure size 1200x600 with 1 Axes>"
      ]
     },
     "metadata": {},
     "output_type": "display_data"
    }
   ],
   "source": [
    "# 재구성 오류 시각화\n",
    "def visualize_reconstruction_error(reconstruction_error, predictions, anomaly_class, threshold):\n",
    "    plt.figure(figsize=(12, 6))\n",
    "    plt.plot(reconstruction_error, label='Reconstruction Error')\n",
    "    plt.axhline(y=threshold, color='r', linestyle='--', label='Threshold')\n",
    "    \n",
    "    # 이상 탐지된 부분 표시\n",
    "    anomaly_idx = np.where(predictions == 1)[0]\n",
    "    plt.scatter(anomaly_idx, reconstruction_error[anomaly_idx], color='red', label='Detected Anomalies', marker='x')\n",
    "    \n",
    "    # 실제 이상이 발생한 부분 표시\n",
    "    real_anomalies_idx = np.where(anomaly_class == 1)[0]\n",
    "    plt.scatter(real_anomalies_idx, reconstruction_error[real_anomalies_idx], color='green', label='True Anomalies', marker='o', facecolors='none')\n",
    "    \n",
    "    plt.title('Reconstruction Error with Anomalies')\n",
    "    plt.xlabel('Sample Index')\n",
    "    plt.ylabel('Reconstruction Error')\n",
    "    plt.legend()\n",
    "    plt.show()\n",
    "\n",
    "# 재구성 오류 및 이상 탐지 결과 시각화\n",
    "visualize_reconstruction_error(reconstruction_error, predictions, pmu['anomaly_class'].values, threshold)"
   ]
  },
  {
   "cell_type": "code",
   "execution_count": null,
   "metadata": {},
   "outputs": [],
   "source": []
  }
 ],
 "metadata": {
  "kernelspec": {
   "display_name": "ml-pipe",
   "language": "python",
   "name": "python3"
  },
  "language_info": {
   "codemirror_mode": {
    "name": "ipython",
    "version": 3
   },
   "file_extension": ".py",
   "mimetype": "text/x-python",
   "name": "python",
   "nbconvert_exporter": "python",
   "pygments_lexer": "ipython3",
   "version": "3.10.14"
  }
 },
 "nbformat": 4,
 "nbformat_minor": 2
}
