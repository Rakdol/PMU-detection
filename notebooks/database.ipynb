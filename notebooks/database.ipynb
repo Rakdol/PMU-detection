{
 "cells": [
  {
   "cell_type": "code",
   "execution_count": 1,
   "metadata": {},
   "outputs": [],
   "source": [
    "from pyspark.sql import SparkSession"
   ]
  },
  {
   "cell_type": "code",
   "execution_count": 2,
   "metadata": {},
   "outputs": [
    {
     "name": "stderr",
     "output_type": "stream",
     "text": [
      "your 131072x1 screen size is bogus. expect trouble\n",
      "24/10/08 17:08:03 WARN Utils: Your hostname, DESKTOP-F6CHKUO resolves to a loopback address: 127.0.1.1; using 10.255.255.254 instead (on interface lo)\n",
      "24/10/08 17:08:03 WARN Utils: Set SPARK_LOCAL_IP if you need to bind to another address\n",
      "Setting default log level to \"WARN\".\n",
      "To adjust logging level use sc.setLogLevel(newLevel). For SparkR, use setLogLevel(newLevel).\n",
      "24/10/08 17:08:04 WARN NativeCodeLoader: Unable to load native-hadoop library for your platform... using builtin-java classes where applicable\n"
     ]
    }
   ],
   "source": [
    "# Spark 세션 생성\n",
    "spark = SparkSession.builder \\\n",
    "    .appName(\"PMU Data Query\") \\\n",
    "    .config(\"spark.jars\", r\"/home/sm/spark/postgresql-42.7.4.jar\") \\\n",
    "    .getOrCreate()"
   ]
  },
  {
   "cell_type": "code",
   "execution_count": 3,
   "metadata": {},
   "outputs": [],
   "source": [
    "import json\n",
    "\n",
    "\n",
    "with open(\"secret.json\", \"r\") as f:\n",
    "    secret = json.load(f)"
   ]
  },
  {
   "cell_type": "code",
   "execution_count": 4,
   "metadata": {},
   "outputs": [],
   "source": [
    "# PostgreSQL에서 데이터 읽기\n",
    "\n",
    "postgres_username = secret.get(\"POSTGRES_USER\", \"postgres\")\n",
    "postgres_password = secret.get(\"POSTGRES_PASSWORD\", None)\n",
    "postgres_port = int(secret.get(\"POSTGRES_PORT\", 5432))\n",
    "postgres_db = secret.get(\"POSTGRES_DB\", \"openpdc\")\n",
    "postgres_server = secret.get(\"POSTGRES_SERVER\", \"postgres-server\")\n",
    "\n",
    "jdbc_url = f\"jdbc:postgresql://{postgres_server}:{postgres_port}/{postgres_db}\"\n",
    "connection_properties = {\n",
    "    \"user\": postgres_username,\n",
    "    \"password\": postgres_password,\n",
    "    \"driver\": \"org.postgresql.Driver\"\n",
    "}"
   ]
  },
  {
   "cell_type": "code",
   "execution_count": 6,
   "metadata": {},
   "outputs": [],
   "source": [
    "sql = \"\"\"\n",
    "\n",
    "select *\n",
    "\n",
    "from pmudata \n",
    "\n",
    "where \"timestamp\" >= '2024-10-08 17:00:00' and \"timestamp\" <= '2024-10-08 17:00:01'\n",
    "limit 10 \n",
    "\n",
    "\"\"\""
   ]
  },
  {
   "cell_type": "code",
   "execution_count": 7,
   "metadata": {},
   "outputs": [],
   "source": [
    "postgreTable = spark.read.format(\"jdbc\")\\\n",
    "                .option(\"url\",\"jdbc:postgresql://{0}:{1}/{2}\".format( postgres_server, postgres_port, postgres_db ) )\\\n",
    "                .option(\"driver\", \"org.postgresql.Driver\")\\\n",
    "                .option(\"query\", sql)\\\n",
    "                .option(\"user\", postgres_username)\\\n",
    "                .option(\"password\", postgres_password)\\\n",
    "                .load()"
   ]
  },
  {
   "cell_type": "code",
   "execution_count": 12,
   "metadata": {},
   "outputs": [],
   "source": [
    "ps_df = postgreTable.pandas_api()"
   ]
  },
  {
   "cell_type": "code",
   "execution_count": 13,
   "metadata": {},
   "outputs": [
    {
     "data": {
      "text/html": [
       "<div>\n",
       "<style scoped>\n",
       "    .dataframe tbody tr th:only-of-type {\n",
       "        vertical-align: middle;\n",
       "    }\n",
       "\n",
       "    .dataframe tbody tr th {\n",
       "        vertical-align: top;\n",
       "    }\n",
       "\n",
       "    .dataframe thead th {\n",
       "        text-align: right;\n",
       "    }\n",
       "</style>\n",
       "<table border=\"1\" class=\"dataframe\">\n",
       "  <thead>\n",
       "    <tr style=\"text-align: right;\">\n",
       "      <th></th>\n",
       "      <th>signalid</th>\n",
       "      <th>key</th>\n",
       "      <th>timestamp</th>\n",
       "      <th>value</th>\n",
       "    </tr>\n",
       "  </thead>\n",
       "  <tbody>\n",
       "    <tr>\n",
       "      <th>0</th>\n",
       "      <td>dba264c2-0ca3-4c42-9e70-3d1b15dff09f</td>\n",
       "      <td>PPA:485</td>\n",
       "      <td>2024-10-04 10:08:10.433</td>\n",
       "      <td>13.069997278737109</td>\n",
       "    </tr>\n",
       "    <tr>\n",
       "      <th>1</th>\n",
       "      <td>9b321278-d388-4f4f-aa58-a444540b4d78</td>\n",
       "      <td>PPA:484</td>\n",
       "      <td>2024-10-04 10:08:10.433</td>\n",
       "      <td>0.9995894432067871</td>\n",
       "    </tr>\n",
       "    <tr>\n",
       "      <th>2</th>\n",
       "      <td>fa56fefb-3662-42a8-bef1-db44be1606ec</td>\n",
       "      <td>PPA:487</td>\n",
       "      <td>2024-10-04 10:08:10.433</td>\n",
       "      <td>13.039996526581476</td>\n",
       "    </tr>\n",
       "    <tr>\n",
       "      <th>3</th>\n",
       "      <td>0d083864-3e6f-4d5d-a01b-823b7ee6ee39</td>\n",
       "      <td>PPA:486</td>\n",
       "      <td>2024-10-04 10:08:10.433</td>\n",
       "      <td>0.9983991980552673</td>\n",
       "    </tr>\n",
       "    <tr>\n",
       "      <th>4</th>\n",
       "      <td>c7742ac9-beee-417f-97d0-6476f90b04db</td>\n",
       "      <td>PPA:489</td>\n",
       "      <td>2024-10-04 10:08:10.433</td>\n",
       "      <td>13.01999687891803</td>\n",
       "    </tr>\n",
       "    <tr>\n",
       "      <th>5</th>\n",
       "      <td>3d46daf6-e3b9-4515-ab32-948e4358a7e4</td>\n",
       "      <td>PPA:488</td>\n",
       "      <td>2024-10-04 10:08:10.433</td>\n",
       "      <td>0.9986903667449951</td>\n",
       "    </tr>\n",
       "    <tr>\n",
       "      <th>6</th>\n",
       "      <td>fbd8dfb0-abba-4e9a-8342-eac2a8174395</td>\n",
       "      <td>PPA:491</td>\n",
       "      <td>2024-10-04 10:08:10.433</td>\n",
       "      <td>13.04999677730002</td>\n",
       "    </tr>\n",
       "    <tr>\n",
       "      <th>7</th>\n",
       "      <td>9a4fdfbf-ce2a-4e55-b2b7-5ab7e7322b17</td>\n",
       "      <td>PPA:490</td>\n",
       "      <td>2024-10-04 10:08:10.433</td>\n",
       "      <td>0.9997492432594299</td>\n",
       "    </tr>\n",
       "    <tr>\n",
       "      <th>8</th>\n",
       "      <td>0435b797-03ec-4d21-8273-3157e22b5a55</td>\n",
       "      <td>PPA:493</td>\n",
       "      <td>2024-10-04 10:08:10.433</td>\n",
       "      <td>13.039997380355121</td>\n",
       "    </tr>\n",
       "    <tr>\n",
       "      <th>9</th>\n",
       "      <td>9f4c9ab9-74b8-4d9a-a0fb-2b3328f38e20</td>\n",
       "      <td>PPA:492</td>\n",
       "      <td>2024-10-04 10:08:10.433</td>\n",
       "      <td>0.9948765635490417</td>\n",
       "    </tr>\n",
       "  </tbody>\n",
       "</table>\n",
       "</div>"
      ],
      "text/plain": [
       "                               signalid      key                timestamp               value\n",
       "0  dba264c2-0ca3-4c42-9e70-3d1b15dff09f  PPA:485  2024-10-04 10:08:10.433  13.069997278737109\n",
       "1  9b321278-d388-4f4f-aa58-a444540b4d78  PPA:484  2024-10-04 10:08:10.433  0.9995894432067871\n",
       "2  fa56fefb-3662-42a8-bef1-db44be1606ec  PPA:487  2024-10-04 10:08:10.433  13.039996526581476\n",
       "3  0d083864-3e6f-4d5d-a01b-823b7ee6ee39  PPA:486  2024-10-04 10:08:10.433  0.9983991980552673\n",
       "4  c7742ac9-beee-417f-97d0-6476f90b04db  PPA:489  2024-10-04 10:08:10.433   13.01999687891803\n",
       "5  3d46daf6-e3b9-4515-ab32-948e4358a7e4  PPA:488  2024-10-04 10:08:10.433  0.9986903667449951\n",
       "6  fbd8dfb0-abba-4e9a-8342-eac2a8174395  PPA:491  2024-10-04 10:08:10.433   13.04999677730002\n",
       "7  9a4fdfbf-ce2a-4e55-b2b7-5ab7e7322b17  PPA:490  2024-10-04 10:08:10.433  0.9997492432594299\n",
       "8  0435b797-03ec-4d21-8273-3157e22b5a55  PPA:493  2024-10-04 10:08:10.433  13.039997380355121\n",
       "9  9f4c9ab9-74b8-4d9a-a0fb-2b3328f38e20  PPA:492  2024-10-04 10:08:10.433  0.9948765635490417"
      ]
     },
     "execution_count": 13,
     "metadata": {},
     "output_type": "execute_result"
    }
   ],
   "source": [
    "ps_df"
   ]
  }
 ],
 "metadata": {
  "kernelspec": {
   "display_name": "pytf",
   "language": "python",
   "name": "python3"
  },
  "language_info": {
   "codemirror_mode": {
    "name": "ipython",
    "version": 3
   },
   "file_extension": ".py",
   "mimetype": "text/x-python",
   "name": "python",
   "nbconvert_exporter": "python",
   "pygments_lexer": "ipython3",
   "version": "3.10.14"
  }
 },
 "nbformat": 4,
 "nbformat_minor": 2
}
