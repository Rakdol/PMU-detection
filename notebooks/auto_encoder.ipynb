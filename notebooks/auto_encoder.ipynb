{
 "cells": [
  {
   "cell_type": "code",
   "execution_count": 6,
   "metadata": {},
   "outputs": [
    {
     "name": "stderr",
     "output_type": "stream",
     "text": [
      "2024-09-30 15:19:31.541513: E external/local_xla/xla/stream_executor/cuda/cuda_dnn.cc:9261] Unable to register cuDNN factory: Attempting to register factory for plugin cuDNN when one has already been registered\n",
      "2024-09-30 15:19:31.541678: E external/local_xla/xla/stream_executor/cuda/cuda_fft.cc:607] Unable to register cuFFT factory: Attempting to register factory for plugin cuFFT when one has already been registered\n",
      "2024-09-30 15:19:31.557324: E external/local_xla/xla/stream_executor/cuda/cuda_blas.cc:1515] Unable to register cuBLAS factory: Attempting to register factory for plugin cuBLAS when one has already been registered\n",
      "2024-09-30 15:19:31.605736: I tensorflow/core/platform/cpu_feature_guard.cc:182] This TensorFlow binary is optimized to use available CPU instructions in performance-critical operations.\n",
      "To enable the following instructions: AVX2 AVX512F FMA, in other operations, rebuild TensorFlow with the appropriate compiler flags.\n",
      "2024-09-30 15:19:33.170875: W tensorflow/compiler/tf2tensorrt/utils/py_utils.cc:38] TF-TRT Warning: Could not find TensorRT\n"
     ]
    }
   ],
   "source": [
    "import os\n",
    "import sys\n",
    "from pathlib import Path\n",
    "\n",
    "SRC_PATH = Path(__name__).resolve().parents[1]\n",
    "\n",
    "sys.path.append(str(SRC_PATH))\n",
    "\n",
    "import pandas as pd\n",
    "import numpy as np\n",
    "import seaborn as sns\n",
    "import matplotlib.pyplot as plt\n",
    "\n",
    "import tensorflow as tf\n",
    "\n",
    "from sklearn.metrics import confusion_matrix\n",
    "from sklearn.metrics import f1_score, accuracy_score, recall_score, precision_score\n",
    "from sklearn.preprocessing import StandardScaler\n",
    "\n",
    "from src.preprocess import MissingHandler\n"
   ]
  },
  {
   "cell_type": "code",
   "execution_count": 2,
   "metadata": {},
   "outputs": [],
   "source": [
    "pmu = pd.read_csv(\"../data/pmu.csv\")"
   ]
  },
  {
   "cell_type": "code",
   "execution_count": 3,
   "metadata": {},
   "outputs": [
    {
     "data": {
      "text/plain": [
       "timestamp            0\n",
       "frequency        11997\n",
       "voltage          12053\n",
       "current          12099\n",
       "phase_angle      12062\n",
       "anomaly_type         0\n",
       "anomaly_class        0\n",
       "dtype: int64"
      ]
     },
     "execution_count": 3,
     "metadata": {},
     "output_type": "execute_result"
    }
   ],
   "source": [
    "pmu.isnull().sum()"
   ]
  },
  {
   "cell_type": "code",
   "execution_count": 4,
   "metadata": {},
   "outputs": [],
   "source": [
    "missng_handler = MissingHandler()\n",
    "pmu = missng_handler.handle_missing_values(pmu)"
   ]
  },
  {
   "cell_type": "code",
   "execution_count": 5,
   "metadata": {},
   "outputs": [
    {
     "data": {
      "text/plain": [
       "timestamp        0\n",
       "frequency        0\n",
       "voltage          0\n",
       "current          0\n",
       "phase_angle      0\n",
       "anomaly_type     0\n",
       "anomaly_class    0\n",
       "dtype: int64"
      ]
     },
     "execution_count": 5,
     "metadata": {},
     "output_type": "execute_result"
    }
   ],
   "source": [
    "pmu.isnull().sum()"
   ]
  },
  {
   "cell_type": "code",
   "execution_count": 7,
   "metadata": {},
   "outputs": [],
   "source": [
    "\n",
    "\n",
    "scaler = StandardScaler()\n",
    "scaled_data = scaler.fit_transform(pmu[['frequency', 'voltage', 'current', 'phase_angle']])\n",
    "\n",
    "# 정상 상태 데이터만 사용하여 오토인코더 학습\n",
    "normal_data = scaled_data[pmu['anomaly_class'] == 0]\n",
    "\n",
    "# 오토인코더 모델 정의\n",
    "def build_autoencoder(input_dim):\n",
    "    input_layer = tf.keras.layers.Input(shape=(input_dim,))\n",
    "    encoded = tf.keras.layers.Dense(32, activation='relu')(input_layer)\n",
    "    encoded = tf.keras.layers.Dense(16, activation='relu')(encoded)\n",
    "    encoded = tf.keras.layers.Dense(8, activation='relu')(encoded)\n",
    "    \n",
    "    decoded = tf.keras.layers.Dense(16, activation='relu')(encoded)\n",
    "    decoded = tf.keras.layers.Dense(32, activation='relu')(decoded)\n",
    "    decoded = tf.keras.layers.Dense(input_dim, activation='linear')(decoded)\n",
    "    \n",
    "    autoencoder = tf.keras.models.Model(input_layer, decoded)\n",
    "    autoencoder.compile(optimizer='adam', loss='mse')\n",
    "    return autoencoder"
   ]
  },
  {
   "cell_type": "code",
   "execution_count": 8,
   "metadata": {},
   "outputs": [
    {
     "name": "stderr",
     "output_type": "stream",
     "text": [
      "2024-09-30 15:19:48.911375: I external/local_xla/xla/stream_executor/cuda/cuda_executor.cc:887] could not open file to read NUMA node: /sys/bus/pci/devices/0000:b3:00.0/numa_node\n",
      "Your kernel may have been built without NUMA support.\n",
      "2024-09-30 15:19:48.960712: W tensorflow/core/common_runtime/gpu/gpu_device.cc:2256] Cannot dlopen some GPU libraries. Please make sure the missing libraries mentioned above are installed properly if you would like to use GPU. Follow the guide at https://www.tensorflow.org/install/gpu for how to download and setup the required libraries for your platform.\n",
      "Skipping registering GPU devices...\n"
     ]
    },
    {
     "name": "stdout",
     "output_type": "stream",
     "text": [
      "Epoch 1/50\n",
      "15000/15000 [==============================] - 50s 3ms/step - loss: 0.0159 - val_loss: 0.0098\n",
      "Epoch 2/50\n",
      "15000/15000 [==============================] - 48s 3ms/step - loss: 0.0062 - val_loss: 0.0023\n",
      "Epoch 3/50\n",
      "15000/15000 [==============================] - 49s 3ms/step - loss: 0.0044 - val_loss: 0.0073\n",
      "Epoch 4/50\n",
      "15000/15000 [==============================] - 48s 3ms/step - loss: 0.0038 - val_loss: 0.0018\n",
      "Epoch 5/50\n",
      "15000/15000 [==============================] - 48s 3ms/step - loss: 0.0039 - val_loss: 0.0080\n",
      "Epoch 6/50\n",
      "15000/15000 [==============================] - 48s 3ms/step - loss: 0.0029 - val_loss: 0.0049\n",
      "Epoch 7/50\n",
      "15000/15000 [==============================] - 50s 3ms/step - loss: 0.0028 - val_loss: 5.2375e-04\n",
      "Epoch 8/50\n",
      "15000/15000 [==============================] - 50s 3ms/step - loss: 0.0024 - val_loss: 0.0028\n",
      "Epoch 9/50\n",
      "15000/15000 [==============================] - 50s 3ms/step - loss: 0.0023 - val_loss: 0.0013\n",
      "Epoch 10/50\n",
      "15000/15000 [==============================] - 50s 3ms/step - loss: 0.0023 - val_loss: 0.0025\n",
      "Epoch 11/50\n",
      "15000/15000 [==============================] - 52s 3ms/step - loss: 0.0021 - val_loss: 0.0025\n",
      "Epoch 12/50\n",
      "15000/15000 [==============================] - 52s 3ms/step - loss: 0.0019 - val_loss: 4.5966e-04\n",
      "Epoch 13/50\n",
      "15000/15000 [==============================] - 52s 3ms/step - loss: 0.0022 - val_loss: 0.0016\n",
      "Epoch 14/50\n",
      "15000/15000 [==============================] - 52s 3ms/step - loss: 0.0019 - val_loss: 0.0057\n",
      "Epoch 15/50\n",
      "15000/15000 [==============================] - 51s 3ms/step - loss: 0.0019 - val_loss: 7.8284e-04\n",
      "Epoch 16/50\n",
      "15000/15000 [==============================] - 52s 3ms/step - loss: 0.0019 - val_loss: 0.0035\n",
      "Epoch 17/50\n",
      "15000/15000 [==============================] - 51s 3ms/step - loss: 0.0017 - val_loss: 0.0053\n",
      "Epoch 18/50\n",
      "15000/15000 [==============================] - 52s 3ms/step - loss: 0.0016 - val_loss: 0.0024\n",
      "Epoch 19/50\n",
      "15000/15000 [==============================] - 52s 3ms/step - loss: 0.0016 - val_loss: 0.0029\n",
      "Epoch 20/50\n",
      "15000/15000 [==============================] - 51s 3ms/step - loss: 0.0017 - val_loss: 0.0030\n",
      "Epoch 21/50\n",
      "15000/15000 [==============================] - 51s 3ms/step - loss: 0.0017 - val_loss: 4.2919e-04\n",
      "Epoch 22/50\n",
      "15000/15000 [==============================] - 52s 3ms/step - loss: 0.0015 - val_loss: 0.0028\n",
      "Epoch 23/50\n",
      "15000/15000 [==============================] - 52s 3ms/step - loss: 0.0015 - val_loss: 0.0090\n",
      "Epoch 24/50\n",
      "15000/15000 [==============================] - 52s 3ms/step - loss: 0.0017 - val_loss: 0.0102\n",
      "Epoch 25/50\n",
      "15000/15000 [==============================] - 55s 4ms/step - loss: 0.0017 - val_loss: 0.0011\n",
      "Epoch 26/50\n",
      "15000/15000 [==============================] - 52s 3ms/step - loss: 0.0014 - val_loss: 0.0046\n",
      "Epoch 27/50\n",
      "15000/15000 [==============================] - 52s 3ms/step - loss: 0.0018 - val_loss: 5.6155e-04\n",
      "Epoch 28/50\n",
      "15000/15000 [==============================] - 52s 3ms/step - loss: 0.0014 - val_loss: 0.0039\n",
      "Epoch 29/50\n",
      "15000/15000 [==============================] - 53s 4ms/step - loss: 0.0015 - val_loss: 0.0031\n",
      "Epoch 30/50\n",
      "15000/15000 [==============================] - 50s 3ms/step - loss: 0.0015 - val_loss: 6.4805e-04\n",
      "Epoch 31/50\n",
      "15000/15000 [==============================] - 53s 4ms/step - loss: 0.0014 - val_loss: 0.0017\n",
      "Epoch 32/50\n",
      "15000/15000 [==============================] - 51s 3ms/step - loss: 0.0015 - val_loss: 0.0042\n",
      "Epoch 33/50\n",
      "15000/15000 [==============================] - 51s 3ms/step - loss: 0.0014 - val_loss: 0.0021\n",
      "Epoch 34/50\n",
      "15000/15000 [==============================] - 52s 3ms/step - loss: 0.0013 - val_loss: 0.0023\n",
      "Epoch 35/50\n",
      "15000/15000 [==============================] - 52s 3ms/step - loss: 0.0015 - val_loss: 5.2160e-04\n",
      "Epoch 36/50\n",
      "15000/15000 [==============================] - 52s 3ms/step - loss: 0.0016 - val_loss: 0.0014\n",
      "Epoch 37/50\n",
      "15000/15000 [==============================] - 52s 3ms/step - loss: 0.0014 - val_loss: 0.0014\n",
      "Epoch 38/50\n",
      "15000/15000 [==============================] - 50s 3ms/step - loss: 0.0012 - val_loss: 0.0021\n",
      "Epoch 39/50\n",
      "15000/15000 [==============================] - 52s 3ms/step - loss: 0.0016 - val_loss: 0.0024\n",
      "Epoch 40/50\n",
      "15000/15000 [==============================] - 51s 3ms/step - loss: 0.0011 - val_loss: 0.0041\n",
      "Epoch 41/50\n",
      "15000/15000 [==============================] - 51s 3ms/step - loss: 0.0013 - val_loss: 0.0022\n",
      "Epoch 42/50\n",
      "15000/15000 [==============================] - 52s 3ms/step - loss: 0.0016 - val_loss: 9.8329e-04\n",
      "Epoch 43/50\n",
      "15000/15000 [==============================] - 51s 3ms/step - loss: 0.0012 - val_loss: 0.0011\n",
      "Epoch 44/50\n",
      "15000/15000 [==============================] - 52s 3ms/step - loss: 0.0013 - val_loss: 0.0016\n",
      "Epoch 45/50\n",
      "15000/15000 [==============================] - 56s 4ms/step - loss: 0.0012 - val_loss: 0.0053\n",
      "Epoch 46/50\n",
      "15000/15000 [==============================] - 54s 4ms/step - loss: 0.0013 - val_loss: 6.1403e-04\n",
      "Epoch 47/50\n",
      "15000/15000 [==============================] - 54s 4ms/step - loss: 0.0012 - val_loss: 0.0026\n",
      "Epoch 48/50\n",
      "15000/15000 [==============================] - 53s 4ms/step - loss: 0.0012 - val_loss: 8.5715e-04\n",
      "Epoch 49/50\n",
      "15000/15000 [==============================] - 53s 4ms/step - loss: 0.0012 - val_loss: 0.0014\n",
      "Epoch 50/50\n",
      "15000/15000 [==============================] - 52s 3ms/step - loss: 0.0010 - val_loss: 6.8520e-04\n"
     ]
    },
    {
     "data": {
      "text/plain": [
       "<keras.src.callbacks.History at 0x7fee745e5120>"
      ]
     },
     "execution_count": 8,
     "metadata": {},
     "output_type": "execute_result"
    }
   ],
   "source": [
    "# 모델 학습\n",
    "input_dim = normal_data.shape[1]\n",
    "autoencoder = build_autoencoder(input_dim)\n",
    "autoencoder.fit(normal_data, normal_data, epochs=50, batch_size=32, shuffle=True, validation_split=0.2)\n"
   ]
  },
  {
   "cell_type": "code",
   "execution_count": 9,
   "metadata": {},
   "outputs": [
    {
     "name": "stdout",
     "output_type": "stream",
     "text": [
      "18750/18750 [==============================] - 35s 2ms/step\n",
      "accuracy Score: 0.9900\n",
      "F1 Score: 0.0053\n",
      "Precision: 0.0027\n",
      "Recall: 0.5333\n",
      "[[593970   6000]\n",
      " [    14     16]]\n"
     ]
    }
   ],
   "source": [
    "# 모든 데이터에 대해 재구성 오류 계산\n",
    "reconstructed_data = autoencoder.predict(scaled_data)\n",
    "reconstruction_error = np.mean(np.abs(reconstructed_data - scaled_data), axis=1)\n",
    "\n",
    "# 이상 탐지 기준: 재구성 오류가 일정 임계값 이상이면 이상으로 간주\n",
    "threshold = np.percentile(reconstruction_error[pmu['anomaly_class'] == 0], 99)  # 상위 5%를 임계값으로 설정\n",
    "predictions = (reconstruction_error > threshold).astype(int)\n",
    "\n",
    "# 성능 평가\n",
    "f1 = f1_score(pmu['anomaly_class'], predictions)\n",
    "precision = precision_score(pmu['anomaly_class'], predictions)\n",
    "recall = recall_score(pmu['anomaly_class'], predictions)\n",
    "accuracy = accuracy_score(pmu['anomaly_class'], predictions)\n",
    "\n",
    "print(f\"accuracy Score: {accuracy:.4f}\")\n",
    "print(f\"F1 Score: {f1:.4f}\")\n",
    "print(f\"Precision: {precision:.4f}\")\n",
    "print(f\"Recall: {recall:.4f}\")\n",
    "\n",
    "print(confusion_matrix(pmu['anomaly_class'], predictions))"
   ]
  },
  {
   "cell_type": "code",
   "execution_count": null,
   "metadata": {},
   "outputs": [],
   "source": [
    "# 재구성 오류 시각화\n",
    "def visualize_reconstruction_error(reconstruction_error, predictions, anomaly_class, threshold):\n",
    "    plt.figure(figsize=(12, 6))\n",
    "    plt.plot(reconstruction_error, label='Reconstruction Error')\n",
    "    plt.axhline(y=threshold, color='r', linestyle='--', label='Threshold')\n",
    "    \n",
    "    # 이상 탐지된 부분 표시\n",
    "    anomaly_idx = np.where(predictions == 1)[0]\n",
    "    plt.scatter(anomaly_idx, reconstruction_error[anomaly_idx], color='red', label='Detected Anomalies', marker='x')\n",
    "    \n",
    "    # 실제 이상이 발생한 부분 표시\n",
    "    real_anomalies_idx = np.where(anomaly_class == 1)[0]\n",
    "    plt.scatter(real_anomalies_idx, reconstruction_error[real_anomalies_idx], color='green', label='True Anomalies', marker='o', facecolors='none')\n",
    "    \n",
    "    plt.title('Reconstruction Error with Anomalies')\n",
    "    plt.xlabel('Sample Index')\n",
    "    plt.ylabel('Reconstruction Error')\n",
    "    plt.legend()\n",
    "    plt.show()\n",
    "\n",
    "# 재구성 오류 및 이상 탐지 결과 시각화\n",
    "visualize_reconstruction_error(reconstruction_error, predictions, pmu['anomaly_class'].values, threshold)"
   ]
  }
 ],
 "metadata": {
  "kernelspec": {
   "display_name": "ml-pipe",
   "language": "python",
   "name": "python3"
  },
  "language_info": {
   "codemirror_mode": {
    "name": "ipython",
    "version": 3
   },
   "file_extension": ".py",
   "mimetype": "text/x-python",
   "name": "python",
   "nbconvert_exporter": "python",
   "pygments_lexer": "ipython3",
   "version": "undefined.undefined.undefined"
  }
 },
 "nbformat": 4,
 "nbformat_minor": 2
}
